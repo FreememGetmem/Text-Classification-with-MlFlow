{
 "cells": [
  {
   "cell_type": "markdown",
   "id": "921693cd",
   "metadata": {},
   "source": [
    "# Projet de Catégorisation de texte (Feature engineering)"
   ]
  },
  {
   "cell_type": "markdown",
   "id": "75046497",
   "metadata": {},
   "source": [
    "### Modules à installer"
   ]
  },
  {
   "cell_type": "code",
   "execution_count": 1,
   "id": "e5727206",
   "metadata": {},
   "outputs": [],
   "source": [
    "#!pip install -U textblob\n",
    "#!pip install -U spacy\n",
    "#!python -m spacy download en\n",
    "#!python -m spacy download en_core_web_sm\n",
    "#ltk.download()\n",
    "#!python -m textblob.download_corpora\n",
    "#!pip install gensim\n",
    "# !pip install mlflow\n",
    "# !pip install pyngrok"
   ]
  },
  {
   "cell_type": "markdown",
   "id": "b49287b4",
   "metadata": {},
   "source": [
    "#### Import des modules"
   ]
  },
  {
   "cell_type": "code",
   "execution_count": 2,
   "id": "27db62a9",
   "metadata": {},
   "outputs": [
    {
     "name": "stdout",
     "output_type": "stream",
     "text": [
      "Le répertoire des Datas existe\n"
     ]
    }
   ],
   "source": [
    "import pandas as pd\n",
    "import numpy as np\n",
    "import seaborn as sns\n",
    "import matplotlib.pyplot as plt\n",
    "\n",
    "import warnings\n",
    "warnings.filterwarnings(\"ignore\")\n",
    "\n",
    "from textblob import TextBlob\n",
    "import nltk\n",
    "\n",
    "from nltk.corpus import stopwords\n",
    "import nltk\n",
    "\n",
    "from nltk.stem import PorterStemmer\n",
    "\n",
    "import os\n",
    "mypath =''\n",
    "if os.path.isdir('bbcsport'):\n",
    "    print('Le répertoire des Datas existe')\n",
    "    mypath+= 'bbcsport'\n",
    "else:\n",
    "    print('Veuillez créer le répertoire des Data à traiter')\n",
    "\n",
    "mypath = 'bbcsport'\n",
    "\n",
    "from textblob import Word\n",
    "\n",
    "import spacy\n",
    "import re\n",
    "\n",
    "from sklearn.feature_extraction.text import TfidfVectorizer\n",
    "from sklearn.feature_extraction.text import CountVectorizer\n",
    "import gensim\n",
    "from gensim.models import Word2Vec\n",
    "from sklearn.tree import DecisionTreeClassifier\n",
    "from sklearn.ensemble import RandomForestClassifier\n",
    "from sklearn.model_selection import train_test_split, cross_val_score\n",
    "from sklearn.pipeline import Pipeline\n",
    "\n",
    "import mlflow as mlf"
   ]
  },
  {
   "cell_type": "code",
   "execution_count": 3,
   "id": "985831b1",
   "metadata": {
    "scrolled": true
   },
   "outputs": [
    {
     "name": "stderr",
     "output_type": "stream",
     "text": [
      "[nltk_data] Downloading package punkt to\n",
      "[nltk_data]     C:\\Users\\mornd\\AppData\\Roaming\\nltk_data...\n",
      "[nltk_data]   Package punkt is already up-to-date!\n",
      "[nltk_data] Downloading package stopwords to\n",
      "[nltk_data]     C:\\Users\\mornd\\AppData\\Roaming\\nltk_data...\n",
      "[nltk_data]   Package stopwords is already up-to-date!\n",
      "[nltk_data] Downloading package wordnet to\n",
      "[nltk_data]     C:\\Users\\mornd\\AppData\\Roaming\\nltk_data...\n",
      "[nltk_data]   Package wordnet is already up-to-date!\n"
     ]
    }
   ],
   "source": [
    "nltk.download(\"punkt\")\n",
    "nltk.download('stopwords')\n",
    "nltk.download('wordnet')\n",
    "mots_stop = stopwords.words('english')\n",
    "ps = PorterStemmer()"
   ]
  },
  {
   "cell_type": "markdown",
   "id": "8754f765",
   "metadata": {},
   "source": [
    "### Data Processing"
   ]
  },
  {
   "cell_type": "code",
   "execution_count": 4,
   "id": "c5f4113e",
   "metadata": {},
   "outputs": [],
   "source": [
    "list_files = []\n",
    "list_contents = []\n",
    "list_cat = []\n",
    "\n",
    "for path, subdirs, files in os.walk(mypath):\n",
    "    for name in files:\n",
    "        my_path = os.path.join(path, name)\n",
    "        list_files.append(name.split('.')[0])\n",
    "        list_cat.append(path.split('\\\\')[1])\n",
    "        \n",
    "        with open(my_path, 'r') as file:\n",
    "            content = file.read()\n",
    "            list_contents.append(content)\n",
    "    \n"
   ]
  },
  {
   "cell_type": "code",
   "execution_count": 5,
   "id": "bd56b9c2",
   "metadata": {},
   "outputs": [],
   "source": [
    "df = pd.DataFrame({'filename':list_files, 'content': list_contents, 'category': list_cat})"
   ]
  },
  {
   "cell_type": "markdown",
   "id": "1d253fee",
   "metadata": {},
   "source": [
    "#### Data cleanning"
   ]
  },
  {
   "cell_type": "code",
   "execution_count": 6,
   "id": "d2cc2573",
   "metadata": {},
   "outputs": [],
   "source": [
    "df['content'] = df[\"content\"].map(lambda x: TextBlob(x).words) # Tokenize\n",
    "df[\"content\"] = df[\"content\"].map(lambda line :  [mot.lower() for mot in line if mot.lower() not in mots_stop] ) # Data lower\n",
    "df[\"content\"] = df[\"content\"].map(lambda line :  [mot for mot in line if re.match(r'^-?\\d+(?:\\.\\d+)$', mot) is None] )\n",
    "df[\"content\"] = df[\"content\"].map(lambda line :  [mot for mot in line if re.match(r\"^\\'\\w{2}$\", mot) is None] )\n",
    "df[\"content\"] = df[\"content\"].map(lambda line :  [mot for mot in line if re.match(r\"^\\'\\w$\", mot) is None] )\n",
    "df[\"content\"] = df[\"content\"].map(lambda line :  [mot for mot in line if re.match(r\"[^@]+@[^@]+\\.[^@]+\", mot) is None] )\n",
    "df[\"content\"] = df[\"content\"].map(lambda line :  [mot for mot in line if re.match(r\".*\\d+.*\", mot) is None] )\n",
    "df[\"content\"] = df[\"content\"].map(lambda line :  [ps.stem(mot) for mot in line] )\n",
    "df[\"content\"] = df[\"content\"].map(lambda line :  [Word(mot).lemmatize() for mot in line] )\n",
    "df[\"content\"] = df[\"content\"].map(lambda line : \" \".join([mot for mot in line]))"
   ]
  },
  {
   "cell_type": "code",
   "execution_count": 7,
   "id": "76d2cb84",
   "metadata": {},
   "outputs": [
    {
     "data": {
      "text/html": [
       "<div>\n",
       "<style scoped>\n",
       "    .dataframe tbody tr th:only-of-type {\n",
       "        vertical-align: middle;\n",
       "    }\n",
       "\n",
       "    .dataframe tbody tr th {\n",
       "        vertical-align: top;\n",
       "    }\n",
       "\n",
       "    .dataframe thead th {\n",
       "        text-align: right;\n",
       "    }\n",
       "</style>\n",
       "<table border=\"1\" class=\"dataframe\">\n",
       "  <thead>\n",
       "    <tr style=\"text-align: right;\">\n",
       "      <th></th>\n",
       "      <th>filename</th>\n",
       "      <th>content</th>\n",
       "      <th>category</th>\n",
       "    </tr>\n",
       "  </thead>\n",
       "  <tbody>\n",
       "    <tr>\n",
       "      <th>0</th>\n",
       "      <td>001</td>\n",
       "      <td>claxton hunt first major medal british hurdler...</td>\n",
       "      <td>athletics</td>\n",
       "    </tr>\n",
       "    <tr>\n",
       "      <th>1</th>\n",
       "      <td>002</td>\n",
       "      <td>o'sullivan could run world sonia o'sullivan in...</td>\n",
       "      <td>athletics</td>\n",
       "    </tr>\n",
       "    <tr>\n",
       "      <th>2</th>\n",
       "      <td>003</td>\n",
       "      <td>green set sight world titl mauric green aim wi...</td>\n",
       "      <td>athletics</td>\n",
       "    </tr>\n",
       "    <tr>\n",
       "      <th>3</th>\n",
       "      <td>004</td>\n",
       "      <td>iaaf launch fight drug iaaf athlet world gover...</td>\n",
       "      <td>athletics</td>\n",
       "    </tr>\n",
       "    <tr>\n",
       "      <th>4</th>\n",
       "      <td>005</td>\n",
       "      <td>dibaba break world record ethiopia tirunesh di...</td>\n",
       "      <td>athletics</td>\n",
       "    </tr>\n",
       "    <tr>\n",
       "      <th>...</th>\n",
       "      <td>...</td>\n",
       "      <td>...</td>\n",
       "      <td>...</td>\n",
       "    </tr>\n",
       "    <tr>\n",
       "      <th>732</th>\n",
       "      <td>096</td>\n",
       "      <td>agassi second round dubai fourth seed andr aga...</td>\n",
       "      <td>tennis</td>\n",
       "    </tr>\n",
       "    <tr>\n",
       "      <th>733</th>\n",
       "      <td>097</td>\n",
       "      <td>mauresmo fight back win titl world number two ...</td>\n",
       "      <td>tennis</td>\n",
       "    </tr>\n",
       "    <tr>\n",
       "      <th>734</th>\n",
       "      <td>098</td>\n",
       "      <td>feder win titl rotterdam world number one roge...</td>\n",
       "      <td>tennis</td>\n",
       "    </tr>\n",
       "    <tr>\n",
       "      <th>735</th>\n",
       "      <td>099</td>\n",
       "      <td>gb player warn secur britain davi cup player w...</td>\n",
       "      <td>tennis</td>\n",
       "    </tr>\n",
       "    <tr>\n",
       "      <th>736</th>\n",
       "      <td>100</td>\n",
       "      <td>sharapova overcom tough molik wimbledon champi...</td>\n",
       "      <td>tennis</td>\n",
       "    </tr>\n",
       "  </tbody>\n",
       "</table>\n",
       "<p>737 rows × 3 columns</p>\n",
       "</div>"
      ],
      "text/plain": [
       "    filename                                            content   category\n",
       "0        001  claxton hunt first major medal british hurdler...  athletics\n",
       "1        002  o'sullivan could run world sonia o'sullivan in...  athletics\n",
       "2        003  green set sight world titl mauric green aim wi...  athletics\n",
       "3        004  iaaf launch fight drug iaaf athlet world gover...  athletics\n",
       "4        005  dibaba break world record ethiopia tirunesh di...  athletics\n",
       "..       ...                                                ...        ...\n",
       "732      096  agassi second round dubai fourth seed andr aga...     tennis\n",
       "733      097  mauresmo fight back win titl world number two ...     tennis\n",
       "734      098  feder win titl rotterdam world number one roge...     tennis\n",
       "735      099  gb player warn secur britain davi cup player w...     tennis\n",
       "736      100  sharapova overcom tough molik wimbledon champi...     tennis\n",
       "\n",
       "[737 rows x 3 columns]"
      ]
     },
     "execution_count": 7,
     "metadata": {},
     "output_type": "execute_result"
    }
   ],
   "source": [
    "df"
   ]
  },
  {
   "cell_type": "markdown",
   "id": "29bee0f5",
   "metadata": {},
   "source": [
    "### Data distribution"
   ]
  },
  {
   "cell_type": "code",
   "execution_count": 8,
   "id": "b910b377",
   "metadata": {},
   "outputs": [
    {
     "data": {
      "text/plain": [
       "football     265\n",
       "rugby        147\n",
       "cricket      124\n",
       "athletics    101\n",
       "tennis       100\n",
       "Name: category, dtype: int64"
      ]
     },
     "execution_count": 8,
     "metadata": {},
     "output_type": "execute_result"
    }
   ],
   "source": [
    "df['category'].value_counts()"
   ]
  },
  {
   "cell_type": "code",
   "execution_count": 9,
   "id": "487a0ff4",
   "metadata": {
    "scrolled": false
   },
   "outputs": [
    {
     "data": {
      "text/plain": [
       "<AxesSubplot:xlabel='category', ylabel='count'>"
      ]
     },
     "execution_count": 9,
     "metadata": {},
     "output_type": "execute_result"
    },
    {
     "data": {
      "image/png": "[encoded data removed]",
      "text/plain": [
       "<Figure size 1008x432 with 1 Axes>"
      ]
     },
     "metadata": {
      "needs_background": "light"
     },
     "output_type": "display_data"
    }
   ],
   "source": [
    "plt.figure(figsize=(14,6))\n",
    "sns.countplot(x='category', data=df)"
   ]
  },
  {
   "cell_type": "markdown",
   "id": "1bda4060",
   "metadata": {},
   "source": [
    "#### Remarque: \n",
    "   * Nous remarquons une imbalance des données, avec la catégorie football qui est hyper dominant dans la représentation des donées  "
   ]
  },
  {
   "cell_type": "markdown",
   "id": "e676141e",
   "metadata": {},
   "source": [
    "### Approach to deal with the imbalanced dataset : Resampling (Oversampling)"
   ]
  },
  {
   "cell_type": "code",
   "execution_count": 10,
   "id": "a9e2890b",
   "metadata": {},
   "outputs": [],
   "source": [
    "from sklearn.utils import resample"
   ]
  },
  {
   "cell_type": "code",
   "execution_count": 11,
   "id": "38511534",
   "metadata": {},
   "outputs": [],
   "source": [
    "val_ru = df[(df['category']=='rugby') ]\n",
    "val_te = df[(df['category']=='tennis') ]\n",
    "val_at = df[(df['category']=='athletics') ]\n",
    "val_cr = df[(df['category']=='cricket') ]"
   ]
  },
  {
   "cell_type": "code",
   "execution_count": 12,
   "id": "c32f4b23",
   "metadata": {
    "scrolled": true
   },
   "outputs": [],
   "source": [
    "val_foot = df[(df['category']=='football')]"
   ]
  },
  {
   "cell_type": "code",
   "execution_count": 13,
   "id": "8d0aab2b",
   "metadata": {},
   "outputs": [],
   "source": [
    "df_minority_upsampled_ru = resample(val_ru,replace=True, n_samples= 265,random_state=42)\n",
    "df_minority_upsampled_te = resample(val_te,replace=True, n_samples= 265,random_state=42)\n",
    "df_minority_upsampled_at = resample(val_at,replace=True, n_samples= 265,random_state=42)\n",
    "df_minority_upsampled_cr = resample(val_cr,replace=True, n_samples= 265,random_state=42)"
   ]
  },
  {
   "cell_type": "code",
   "execution_count": 14,
   "id": "82ec1079",
   "metadata": {},
   "outputs": [],
   "source": [
    "df_upsampled = pd.concat([df_minority_upsampled_ru, df_minority_upsampled_te, df_minority_upsampled_at, df_minority_upsampled_cr, val_foot])"
   ]
  },
  {
   "cell_type": "code",
   "execution_count": 15,
   "id": "596585f2",
   "metadata": {},
   "outputs": [
    {
     "data": {
      "text/plain": [
       "rugby        265\n",
       "tennis       265\n",
       "athletics    265\n",
       "cricket      265\n",
       "football     265\n",
       "Name: category, dtype: int64"
      ]
     },
     "execution_count": 15,
     "metadata": {},
     "output_type": "execute_result"
    }
   ],
   "source": [
    "df_upsampled['category'].value_counts()\n"
   ]
  },
  {
   "cell_type": "code",
   "execution_count": 16,
   "id": "a815278e",
   "metadata": {
    "scrolled": true
   },
   "outputs": [
    {
     "data": {
      "text/plain": [
       "<AxesSubplot:xlabel='category', ylabel='count'>"
      ]
     },
     "execution_count": 16,
     "metadata": {},
     "output_type": "execute_result"
    },
    {
     "data": {
      "image/png": "[encoded data removed]",
      "text/plain": [
       "<Figure size 1008x432 with 1 Axes>"
      ]
     },
     "metadata": {
      "needs_background": "light"
     },
     "output_type": "display_data"
    }
   ],
   "source": [
    "plt.figure(figsize=(14,6))\n",
    "sns.countplot(x='category', data=df_upsampled)"
   ]
  },
  {
   "cell_type": "code",
   "execution_count": 17,
   "id": "9ed1a833",
   "metadata": {
    "scrolled": true
   },
   "outputs": [
    {
     "data": {
      "text/html": [
       "<div>\n",
       "<style scoped>\n",
       "    .dataframe tbody tr th:only-of-type {\n",
       "        vertical-align: middle;\n",
       "    }\n",
       "\n",
       "    .dataframe tbody tr th {\n",
       "        vertical-align: top;\n",
       "    }\n",
       "\n",
       "    .dataframe thead th {\n",
       "        text-align: right;\n",
       "    }\n",
       "</style>\n",
       "<table border=\"1\" class=\"dataframe\">\n",
       "  <thead>\n",
       "    <tr style=\"text-align: right;\">\n",
       "      <th></th>\n",
       "      <th>filename</th>\n",
       "      <th>content</th>\n",
       "      <th>category</th>\n",
       "    </tr>\n",
       "  </thead>\n",
       "  <tbody>\n",
       "    <tr>\n",
       "      <th>592</th>\n",
       "      <td>103</td>\n",
       "      <td>campbel lion consult former govern commun chie...</td>\n",
       "      <td>rugby</td>\n",
       "    </tr>\n",
       "    <tr>\n",
       "      <th>582</th>\n",
       "      <td>093</td>\n",
       "      <td>wasp leicest leicest withstood stun wasp comeb...</td>\n",
       "      <td>rugby</td>\n",
       "    </tr>\n",
       "    <tr>\n",
       "      <th>504</th>\n",
       "      <td>015</td>\n",
       "      <td>ref stand scotland decis refere saturday franc...</td>\n",
       "      <td>rugby</td>\n",
       "    </tr>\n",
       "    <tr>\n",
       "      <th>596</th>\n",
       "      <td>107</td>\n",
       "      <td>dawson set new wasp contract european champion...</td>\n",
       "      <td>rugby</td>\n",
       "    </tr>\n",
       "    <tr>\n",
       "      <th>561</th>\n",
       "      <td>072</td>\n",
       "      <td>wale get william fit boost wale hope opensid f...</td>\n",
       "      <td>rugby</td>\n",
       "    </tr>\n",
       "    <tr>\n",
       "      <th>...</th>\n",
       "      <td>...</td>\n",
       "      <td>...</td>\n",
       "      <td>...</td>\n",
       "    </tr>\n",
       "    <tr>\n",
       "      <th>485</th>\n",
       "      <td>261</td>\n",
       "      <td>crusad ballymena unit ballymena unit came back...</td>\n",
       "      <td>football</td>\n",
       "    </tr>\n",
       "    <tr>\n",
       "      <th>486</th>\n",
       "      <td>262</td>\n",
       "      <td>van nistelrooy hungri return manchest unit str...</td>\n",
       "      <td>football</td>\n",
       "    </tr>\n",
       "    <tr>\n",
       "      <th>487</th>\n",
       "      <td>263</td>\n",
       "      <td>kean defiant vieira bust-up manchest unit capt...</td>\n",
       "      <td>football</td>\n",
       "    </tr>\n",
       "    <tr>\n",
       "      <th>488</th>\n",
       "      <td>264</td>\n",
       "      <td>tartan armi given safeti pledg scotland fan ab...</td>\n",
       "      <td>football</td>\n",
       "    </tr>\n",
       "    <tr>\n",
       "      <th>489</th>\n",
       "      <td>265</td>\n",
       "      <td>morocco kenya morocco thrash kenya world cup q...</td>\n",
       "      <td>football</td>\n",
       "    </tr>\n",
       "  </tbody>\n",
       "</table>\n",
       "<p>1325 rows × 3 columns</p>\n",
       "</div>"
      ],
      "text/plain": [
       "    filename                                            content  category\n",
       "592      103  campbel lion consult former govern commun chie...     rugby\n",
       "582      093  wasp leicest leicest withstood stun wasp comeb...     rugby\n",
       "504      015  ref stand scotland decis refere saturday franc...     rugby\n",
       "596      107  dawson set new wasp contract european champion...     rugby\n",
       "561      072  wale get william fit boost wale hope opensid f...     rugby\n",
       "..       ...                                                ...       ...\n",
       "485      261  crusad ballymena unit ballymena unit came back...  football\n",
       "486      262  van nistelrooy hungri return manchest unit str...  football\n",
       "487      263  kean defiant vieira bust-up manchest unit capt...  football\n",
       "488      264  tartan armi given safeti pledg scotland fan ab...  football\n",
       "489      265  morocco kenya morocco thrash kenya world cup q...  football\n",
       "\n",
       "[1325 rows x 3 columns]"
      ]
     },
     "execution_count": 17,
     "metadata": {},
     "output_type": "execute_result"
    }
   ],
   "source": [
    "df = df_upsampled\n",
    "df"
   ]
  },
  {
   "cell_type": "markdown",
   "id": "a11a1b51",
   "metadata": {},
   "source": [
    "### Data split in Train and Test"
   ]
  },
  {
   "cell_type": "code",
   "execution_count": 18,
   "id": "80f0bd2f",
   "metadata": {},
   "outputs": [],
   "source": [
    "X = df['content']\n",
    "y = df['category']\n",
    "X_train, X_test, y_train, y_test = train_test_split(X, y, test_size = 0.2,random_state=42)"
   ]
  },
  {
   "cell_type": "markdown",
   "id": "866682ff",
   "metadata": {},
   "source": [
    "# Feature engineering with TF-IDF, Bag of word, Word Embedding"
   ]
  },
  {
   "cell_type": "markdown",
   "id": "c30bc4bc",
   "metadata": {},
   "source": [
    "## 1. TF-IDF (Term frequency-inverse document frequency)"
   ]
  },
  {
   "cell_type": "code",
   "execution_count": 19,
   "id": "4f34ed3e",
   "metadata": {},
   "outputs": [],
   "source": [
    "mlf.set_experiment(\"Tf_Idf\")\n",
    "mlf.sklearn.autolog()"
   ]
  },
  {
   "cell_type": "markdown",
   "id": "862c2cc8",
   "metadata": {},
   "source": [
    "### Randomn Forest"
   ]
  },
  {
   "cell_type": "code",
   "execution_count": 20,
   "id": "ef08fb34",
   "metadata": {},
   "outputs": [],
   "source": [
    "with mlf.start_run(run_name = 'Random_Forest_tfidf'):\n",
    "    pipeline_tfidf_rf = Pipeline([('vect', TfidfVectorizer(ngram_range=(1, 2), stop_words=\"english\", sublinear_tf=True)),\n",
    "                     ('rf', RandomForestClassifier())])\n",
    "    model_tfidf_rf = pipeline_tfidf_rf.fit(X_train, y_train)\n",
    "    predict_tfidf_rf = model_tfidf_rf.predict(X_test)"
   ]
  },
  {
   "cell_type": "code",
   "execution_count": 21,
   "id": "7bbf2ce2",
   "metadata": {},
   "outputs": [
    {
     "name": "stdout",
     "output_type": "stream",
     "text": [
      "Score sur le train:  1.0\n",
      "Score sur le test ou Accuracy:  0.9886792452830189\n"
     ]
    }
   ],
   "source": [
    "print (\"Score sur le train: \",model_tfidf_rf.score(X_train, y_train))\n",
    "print(\"Score sur le test ou Accuracy: \",model_tfidf_rf.score(X_test, y_test))"
   ]
  },
  {
   "cell_type": "markdown",
   "id": "1ece73b9",
   "metadata": {},
   "source": [
    "### Decision Tree"
   ]
  },
  {
   "cell_type": "code",
   "execution_count": 22,
   "id": "62db145e",
   "metadata": {},
   "outputs": [],
   "source": [
    "with mlf.start_run(run_name = 'Decision_Tree_tfidf'):\n",
    "    pipeline_tfidf_dt = Pipeline([('vect', TfidfVectorizer(ngram_range=(1, 10), stop_words=\"english\", sublinear_tf=True)),\n",
    "                     ('dt', DecisionTreeClassifier(criterion=\"gini\", random_state=42,max_depth=3, min_samples_leaf=5))])\n",
    "    model_tfidf_dt = pipeline_tfidf_dt.fit(X_train, y_train)\n",
    "    predict_tfidf_dt = model_tfidf_dt.predict(X_test)"
   ]
  },
  {
   "cell_type": "code",
   "execution_count": 23,
   "id": "773e60d8",
   "metadata": {},
   "outputs": [
    {
     "name": "stdout",
     "output_type": "stream",
     "text": [
      "Score sur le train:  0.6179245283018868\n",
      "Score sur le test ou Accuracy:  0.5962264150943396\n"
     ]
    }
   ],
   "source": [
    "print (\"Score sur le train: \",model_tfidf_dt.score(X_train, y_train))\n",
    "print(\"Score sur le test ou Accuracy: \",model_tfidf_dt.score(X_test, y_test))"
   ]
  },
  {
   "cell_type": "markdown",
   "id": "7f88d310",
   "metadata": {},
   "source": [
    "## 2. Bag of Words"
   ]
  },
  {
   "cell_type": "code",
   "execution_count": 24,
   "id": "6f8256c0",
   "metadata": {},
   "outputs": [],
   "source": [
    "mlf.set_experiment(\"Bag_of_word\")\n",
    "mlf.sklearn.autolog()"
   ]
  },
  {
   "cell_type": "markdown",
   "id": "f5c65a79",
   "metadata": {},
   "source": [
    "### Randomn Forest"
   ]
  },
  {
   "cell_type": "code",
   "execution_count": 25,
   "id": "9f51899e",
   "metadata": {},
   "outputs": [],
   "source": [
    "with mlf.start_run(run_name = 'Random_Forest_bow'):\n",
    "    pipeline_bow_rf = Pipeline([('vect', CountVectorizer()),('rf', RandomForestClassifier(n_jobs=2, random_state=0))])\n",
    "    model_bow_rf = pipeline_bow_rf.fit(X_train, y_train)\n",
    "    predict_bow_rf = model_bow_rf.predict(X_test)"
   ]
  },
  {
   "cell_type": "code",
   "execution_count": 26,
   "id": "3fbb9c0a",
   "metadata": {
    "scrolled": false
   },
   "outputs": [
    {
     "name": "stdout",
     "output_type": "stream",
     "text": [
      "Score sur le train:  1.0\n",
      "Score sur le test ou Accuracy:  0.9849056603773585\n"
     ]
    }
   ],
   "source": [
    "print(\"Score sur le train: \",model_bow_rf.score(X_train, y_train))\n",
    "print(\"Score sur le test ou Accuracy: \",model_bow_rf.score(X_test, y_test))"
   ]
  },
  {
   "cell_type": "markdown",
   "id": "8bf14757",
   "metadata": {},
   "source": [
    "### Decision Tree"
   ]
  },
  {
   "cell_type": "code",
   "execution_count": 27,
   "id": "600bbcd5",
   "metadata": {},
   "outputs": [],
   "source": [
    "with mlf.start_run(run_name = 'Decision_Tree_bow'):\n",
    "    pipeline_bow_dt = Pipeline([('vect', CountVectorizer()),\n",
    "                     ('dt', DecisionTreeClassifier(criterion=\"gini\", random_state=42,max_depth=3, min_samples_leaf=5))])\n",
    "    model_bow_dt = pipeline_bow_dt.fit(X_train, y_train)\n",
    "    predict_bow_dt = model_bow_dt.predict(X_test)"
   ]
  },
  {
   "cell_type": "code",
   "execution_count": 28,
   "id": "394dc9d6",
   "metadata": {},
   "outputs": [
    {
     "name": "stdout",
     "output_type": "stream",
     "text": [
      "Score sur le train:  0.6113207547169811\n",
      "Score sur le test ou Accuracy:  0.6264150943396226\n"
     ]
    }
   ],
   "source": [
    "print (\"Score sur le train: \",model_bow_dt.score(X_train, y_train))\n",
    "print(\"Score sur le test ou Accuracy: \",model_bow_dt.score(X_test, y_test))"
   ]
  },
  {
   "cell_type": "markdown",
   "id": "8b107ba5",
   "metadata": {},
   "source": [
    "## 3. Word Embedding"
   ]
  },
  {
   "cell_type": "code",
   "execution_count": 29,
   "id": "0c4396a3",
   "metadata": {},
   "outputs": [],
   "source": [
    "mlf.set_experiment(\"Word_Embedding\")\n",
    "mlf.sklearn.autolog()"
   ]
  },
  {
   "cell_type": "code",
   "execution_count": 30,
   "id": "89626e2e",
   "metadata": {},
   "outputs": [],
   "source": [
    "model1 = gensim.models.Word2Vec(list_contents, min_count = 1,vector_size  = 100, window = 5, sg=2) "
   ]
  },
  {
   "cell_type": "code",
   "execution_count": 31,
   "id": "6a3d5874",
   "metadata": {},
   "outputs": [],
   "source": [
    "size = 1000\n",
    "window = 3\n",
    "min_count = 1\n",
    "workers = 3\n",
    "sg = 1\n",
    "word2vec_model_file =  'word2vec_' + str(size) + '.model'"
   ]
  },
  {
   "cell_type": "code",
   "execution_count": 32,
   "id": "125a64e8",
   "metadata": {},
   "outputs": [],
   "source": [
    "df['content_token'] = df[\"content\"].map(lambda x: TextBlob(x).words)"
   ]
  },
  {
   "cell_type": "code",
   "execution_count": 33,
   "id": "59ce51ed",
   "metadata": {},
   "outputs": [],
   "source": [
    "w2v_model = Word2Vec(df.content_token, min_count = min_count, vector_size=size, workers = workers, window = window, sg = sg)\n",
    "w2v_model.save(word2vec_model_file)\n",
    "sg_w2v_model = Word2Vec.load(word2vec_model_file)\n"
   ]
  },
  {
   "cell_type": "code",
   "execution_count": 34,
   "id": "d18c8af2",
   "metadata": {},
   "outputs": [],
   "source": [
    "nlp = spacy.load('en_core_web_sm')    "
   ]
  },
  {
   "cell_type": "code",
   "execution_count": 35,
   "id": "da1c913c",
   "metadata": {},
   "outputs": [],
   "source": [
    "def get_vector(x):\n",
    "    doc = nlp(x)\n",
    "    \n",
    "    return doc.vector"
   ]
  },
  {
   "cell_type": "code",
   "execution_count": 36,
   "id": "18729add",
   "metadata": {},
   "outputs": [],
   "source": [
    "df['vector'] = df['content'].map(lambda line: get_vector(line))"
   ]
  },
  {
   "cell_type": "code",
   "execution_count": 37,
   "id": "627f6d58",
   "metadata": {},
   "outputs": [],
   "source": [
    "X = df['vector'].to_numpy()\n",
    "X = X.reshape(-1,1)\n",
    "X = np.concatenate(np.concatenate(X, axis=0), axis=0).reshape(-1,96)"
   ]
  },
  {
   "cell_type": "code",
   "execution_count": 38,
   "id": "129d2b1f",
   "metadata": {},
   "outputs": [],
   "source": [
    "X_train, X_test, y_train, y_test =  train_test_split(X,y, test_size=0.2, random_state=42, stratify=y)"
   ]
  },
  {
   "cell_type": "markdown",
   "id": "326523c6",
   "metadata": {},
   "source": [
    "### Randomn Forest"
   ]
  },
  {
   "cell_type": "code",
   "execution_count": 39,
   "id": "255d981f",
   "metadata": {},
   "outputs": [],
   "source": [
    "with mlf.start_run(run_name = 'Random_Forest_we'):\n",
    "    pipeline_we_rf = Pipeline([('rf', RandomForestClassifier())])\n",
    "    model_we_rf = pipeline_we_rf.fit(X_train, y_train)\n",
    "    predict_we_rf = model_we_rf.predict(X_test)"
   ]
  },
  {
   "cell_type": "code",
   "execution_count": 40,
   "id": "8dd14fbf",
   "metadata": {},
   "outputs": [
    {
     "name": "stdout",
     "output_type": "stream",
     "text": [
      "Score sur le train:  1.0\n",
      "Score sur le test ou Accuracy:  0.9056603773584906\n"
     ]
    }
   ],
   "source": [
    "print(\"Score sur le train: \",model_we_rf.score(X_train, y_train))\n",
    "print(\"Score sur le test ou Accuracy: \",model_we_rf.score(X_test, y_test))"
   ]
  },
  {
   "cell_type": "markdown",
   "id": "25dd50a0",
   "metadata": {},
   "source": [
    "### Decision Tree"
   ]
  },
  {
   "cell_type": "code",
   "execution_count": 41,
   "id": "e2639555",
   "metadata": {},
   "outputs": [],
   "source": [
    "with mlf.start_run(run_name = 'Decision_Tree_we'):\n",
    "    pipeline_we_dt = Pipeline([('dt', DecisionTreeClassifier(criterion=\"gini\", random_state=42,max_depth=3, min_samples_leaf=5))])\n",
    "    model_we_dt = pipeline_we_dt.fit(X_train, y_train)\n",
    "    predict_we_dt = model_we_dt.predict(X_test)"
   ]
  },
  {
   "cell_type": "code",
   "execution_count": 42,
   "id": "94319215",
   "metadata": {},
   "outputs": [
    {
     "name": "stdout",
     "output_type": "stream",
     "text": [
      "Score sur le train:  0.5094339622641509\n",
      "Score sur le test ou Accuracy:  0.47924528301886793\n"
     ]
    }
   ],
   "source": [
    "print (\"Score sur le train: \",model_we_dt.score(X_train, y_train))\n",
    "print(\"Score sur le test ou Accuracy: \",model_we_dt.score(X_test, y_test))"
   ]
  },
  {
   "cell_type": "markdown",
   "id": "fd5a72e1",
   "metadata": {},
   "source": [
    "## Ngrok Server Start"
   ]
  },
  {
   "cell_type": "code",
   "execution_count": 43,
   "id": "d32ccff1",
   "metadata": {},
   "outputs": [
    {
     "name": "stdout",
     "output_type": "stream",
     "text": [
      "Mlflow tracking UI :  https://849e-107-171-213-74.ngrok.io\n"
     ]
    }
   ],
   "source": [
    "from pyngrok import ngrok\n",
    "ngrok.kill()\n",
    "\n",
    "NGROK_AUTH_TOKEN = \"2CzwTVhxNUJvXPFPC9eMwEoQNEA_485z36r2Qyrq9v8QcDKpt\"\n",
    "ngrok.set_auth_token(NGROK_AUTH_TOKEN)\n",
    "\n",
    "ngrok_tunnel = ngrok.connect(addr=\"5000\", proto=\"http\", bind_tls=True)\n",
    "print(\"Mlflow tracking UI : \", ngrok_tunnel.public_url)"
   ]
  },
  {
   "cell_type": "code",
   "execution_count": 44,
   "id": "4b09d8ed",
   "metadata": {},
   "outputs": [
    {
     "name": "stdout",
     "output_type": "stream",
     "text": [
      "^C\n"
     ]
    }
   ],
   "source": [
    "!mlflow ui"
   ]
  },
  {
   "cell_type": "code",
   "execution_count": null,
   "id": "8e652433",
   "metadata": {},
   "outputs": [],
   "source": []
  }
 ],
 "metadata": {
  "kernelspec": {
   "display_name": "Python 3 (ipykernel)",
   "language": "python",
   "name": "python3"
  },
  "language_info": {
   "codemirror_mode": {
    "name": "ipython",
    "version": 3
   },
   "file_extension": ".py",
   "mimetype": "text/x-python",
   "name": "python",
   "nbconvert_exporter": "python",
   "pygments_lexer": "ipython3",
   "version": "3.9.12"
  }
 },
 "nbformat": 4,
 "nbformat_minor": 5
}
